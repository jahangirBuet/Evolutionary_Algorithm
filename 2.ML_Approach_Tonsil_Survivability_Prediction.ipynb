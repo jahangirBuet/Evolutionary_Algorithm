{
  "cells": [
    {
      "cell_type": "markdown",
      "metadata": {
        "id": "view-in-github",
        "colab_type": "text"
      },
      "source": [
        "<a href=\"https://colab.research.google.com/github/jahangirBuet/Evolutionary_Algorithm/blob/main/ML_Approach_Tonsil_Survivability_Prediction.ipynb\" target=\"_parent\"><img src=\"https://colab.research.google.com/assets/colab-badge.svg\" alt=\"Open In Colab\"/></a>"
      ]
    },
    {
      "cell_type": "code",
      "execution_count": null,
      "metadata": {
        "id": "dpTZygwPvPoQ"
      },
      "outputs": [],
      "source": [
        "import warnings\n",
        "warnings.filterwarnings('ignore')"
      ]
    },
    {
      "cell_type": "code",
      "execution_count": null,
      "metadata": {
        "colab": {
          "base_uri": "https://localhost:8080/"
        },
        "id": "FySBLkCtbX9e",
        "outputId": "66bfd21d-5630-4df8-b612-93a54d978bcf"
      },
      "outputs": [
        {
          "output_type": "stream",
          "name": "stdout",
          "text": [
            "Mounted at /content/drive\n"
          ]
        }
      ],
      "source": [
        "from google.colab import drive\n",
        "drive.mount('/content/drive')"
      ]
    },
    {
      "cell_type": "code",
      "execution_count": null,
      "metadata": {
        "id": "tfwenM27FrRY"
      },
      "outputs": [],
      "source": [
        "import pandas as pd"
      ]
    },
    {
      "cell_type": "code",
      "execution_count": null,
      "metadata": {
        "id": "lxr2bynQbRxC"
      },
      "outputs": [],
      "source": []
    },
    {
      "cell_type": "code",
      "execution_count": null,
      "metadata": {
        "id": "ZhkT3kmDF8YJ"
      },
      "outputs": [],
      "source": [
        "df=pd.read_csv('/content/drive/MyDrive/Final Research Work/CODE/Tonsil_updatedata.csv')"
      ]
    },
    {
      "cell_type": "code",
      "execution_count": null,
      "metadata": {
        "colab": {
          "base_uri": "https://localhost:8080/"
        },
        "id": "5rqIounkGWZy",
        "outputId": "bec8307e-7cb1-4436-e853-a21dc14e22ec"
      },
      "outputs": [
        {
          "output_type": "stream",
          "name": "stdout",
          "text": [
            "<class 'pandas.core.frame.DataFrame'>\n",
            "RangeIndex: 4807 entries, 0 to 4806\n",
            "Data columns (total 37 columns):\n",
            " #   Column                                    Non-Null Count  Dtype  \n",
            "---  ------                                    --------------  -----  \n",
            " 0   Age                                       4807 non-null   object \n",
            " 1   Race recode                               4807 non-null   object \n",
            " 2   Year of diagnosis                         4807 non-null   int64  \n",
            " 3   Sex                                       4807 non-null   object \n",
            " 4   Primary Site  labeled                     4807 non-null   object \n",
            " 5   ICD-O-3 Hist behav                        4807 non-null   object \n",
            " 6   Laterality                                4807 non-null   object \n",
            " 7   Site recode - rare tumors                 4807 non-null   object \n",
            " 8   AYA site recode                           4807 non-null   object \n",
            " 9   Derived AJCC T                            4807 non-null   object \n",
            " 10  Derived AJCC N                            4807 non-null   object \n",
            " 11  Derived AJCC M                            4807 non-null   object \n",
            " 12  RX Summ--Surg Prim Site                   4807 non-null   int64  \n",
            " 13  RX Summ--Surg Oth Reg                     4807 non-null   object \n",
            " 14  Reason no cancer - directed surgery       4807 non-null   object \n",
            " 15  Regional nodes examined                   4807 non-null   int64  \n",
            " 16  CS tumor size                             4807 non-null   float64\n",
            " 17  CS extension                              4807 non-null   float64\n",
            " 18  CS lymph nodes                            4807 non-null   float64\n",
            " 19  CS mets at dx                             4807 non-null   float64\n",
            " 20  Survival months                           4807 non-null   int64  \n",
            " 21  Vital status recode                       4807 non-null   object \n",
            " 22  Total number of benign tumors             4807 non-null   int64  \n",
            " 23  Total number of malignant tumor           4807 non-null   int64  \n",
            " 24  Race and origin recode                    4807 non-null   object \n",
            " 25  Histology ICD-O-2                         4807 non-null   int64  \n",
            " 26  Behavior code ICD-O-2                     4807 non-null   object \n",
            " 27  SEER cause-specific death classification  4807 non-null   object \n",
            " 28  Regional nodes positive                   4807 non-null   int64  \n",
            " 29  Grade                                     4807 non-null   object \n",
            " 30  Histology recode  broad groupings         4807 non-null   object \n",
            " 31  Combined Summary Stage                    4807 non-null   object \n",
            " 32  SEER Combined Summary Stage               4807 non-null   object \n",
            " 33  Derived AJCC Stage Group                  4807 non-null   object \n",
            " 34  Diagnostic Confirmation                   4807 non-null   object \n",
            " 35  RX Summ--Scope Reg LN Sur                 4807 non-null   object \n",
            " 36  Patient ID                                4807 non-null   int64  \n",
            "dtypes: float64(4), int64(9), object(24)\n",
            "memory usage: 1.4+ MB\n"
          ]
        }
      ],
      "source": [
        "df.info()"
      ]
    },
    {
      "cell_type": "code",
      "execution_count": null,
      "metadata": {
        "colab": {
          "base_uri": "https://localhost:8080/",
          "height": 416
        },
        "id": "G1c-bHMBGZWZ",
        "outputId": "eed56fe1-7f94-448b-c479-65d5f1dd495e"
      },
      "outputs": [
        {
          "output_type": "execute_result",
          "data": {
            "text/plain": [
              "       Year of diagnosis  RX Summ--Surg Prim Site  Regional nodes examined   \\\n",
              "count        4807.000000              4807.000000               4807.000000   \n",
              "mean         2010.576035                17.118369                 28.568754   \n",
              "std             3.292381                16.706044                 37.229532   \n",
              "min          2004.000000                 0.000000                  0.000000   \n",
              "25%          2008.000000                 0.000000                  0.000000   \n",
              "50%          2011.000000                27.000000                  5.000000   \n",
              "75%          2013.000000                31.000000                 47.500000   \n",
              "max          2015.000000                99.000000                 99.000000   \n",
              "\n",
              "       CS tumor size  CS extension  CS lymph nodes  CS mets at dx  \\\n",
              "count    4807.000000   4807.000000     4807.000000    4807.000000   \n",
              "mean      268.460994    353.316414      190.759101       3.422925   \n",
              "std       418.593573    214.270957      185.044568      16.805942   \n",
              "min         0.000000    100.000000        0.000000       0.000000   \n",
              "25%        20.000000    150.000000      100.000000       0.000000   \n",
              "50%        32.000000    300.000000      190.000000       0.000000   \n",
              "75%       101.000000    500.000000      220.000000       0.000000   \n",
              "max       999.000000    999.000000      999.000000      99.000000   \n",
              "\n",
              "       Survival months  Total number of benign tumors  \\\n",
              "count      4807.000000                    4807.000000   \n",
              "mean         82.428958                       0.004369   \n",
              "std          44.864918                       0.071991   \n",
              "min           0.000000                       0.000000   \n",
              "25%          48.000000                       0.000000   \n",
              "50%          77.000000                       0.000000   \n",
              "75%         115.000000                       0.000000   \n",
              "max         179.000000                       2.000000   \n",
              "\n",
              "       Total number of malignant tumor  Histology ICD-O-2  \\\n",
              "count                      4807.000000        4807.000000   \n",
              "mean                          1.274392        8070.519659   \n",
              "std                           0.605681          19.242100   \n",
              "min                           1.000000        8000.000000   \n",
              "25%                           1.000000        8070.000000   \n",
              "50%                           1.000000        8070.000000   \n",
              "75%                           1.000000        8070.000000   \n",
              "max                           8.000000        8560.000000   \n",
              "\n",
              "       Regional nodes positive    Patient ID  \n",
              "count              4807.000000  4.807000e+03  \n",
              "mean                 61.592053  1.602947e+07  \n",
              "std                  46.033684  9.547912e+06  \n",
              "min                   0.000000  1.026070e+05  \n",
              "25%                   2.000000  6.363275e+06  \n",
              "50%                  95.000000  1.779194e+07  \n",
              "75%                  98.000000  2.400173e+07  \n",
              "max                  99.000000  3.062042e+07  "
            ],
            "text/html": [
              "\n",
              "  <div id=\"df-98741223-505f-424b-a56c-24e023b8f3ed\">\n",
              "    <div class=\"colab-df-container\">\n",
              "      <div>\n",
              "<style scoped>\n",
              "    .dataframe tbody tr th:only-of-type {\n",
              "        vertical-align: middle;\n",
              "    }\n",
              "\n",
              "    .dataframe tbody tr th {\n",
              "        vertical-align: top;\n",
              "    }\n",
              "\n",
              "    .dataframe thead th {\n",
              "        text-align: right;\n",
              "    }\n",
              "</style>\n",
              "<table border=\"1\" class=\"dataframe\">\n",
              "  <thead>\n",
              "    <tr style=\"text-align: right;\">\n",
              "      <th></th>\n",
              "      <th>Year of diagnosis</th>\n",
              "      <th>RX Summ--Surg Prim Site</th>\n",
              "      <th>Regional nodes examined</th>\n",
              "      <th>CS tumor size</th>\n",
              "      <th>CS extension</th>\n",
              "      <th>CS lymph nodes</th>\n",
              "      <th>CS mets at dx</th>\n",
              "      <th>Survival months</th>\n",
              "      <th>Total number of benign tumors</th>\n",
              "      <th>Total number of malignant tumor</th>\n",
              "      <th>Histology ICD-O-2</th>\n",
              "      <th>Regional nodes positive</th>\n",
              "      <th>Patient ID</th>\n",
              "    </tr>\n",
              "  </thead>\n",
              "  <tbody>\n",
              "    <tr>\n",
              "      <th>count</th>\n",
              "      <td>4807.000000</td>\n",
              "      <td>4807.000000</td>\n",
              "      <td>4807.000000</td>\n",
              "      <td>4807.000000</td>\n",
              "      <td>4807.000000</td>\n",
              "      <td>4807.000000</td>\n",
              "      <td>4807.000000</td>\n",
              "      <td>4807.000000</td>\n",
              "      <td>4807.000000</td>\n",
              "      <td>4807.000000</td>\n",
              "      <td>4807.000000</td>\n",
              "      <td>4807.000000</td>\n",
              "      <td>4.807000e+03</td>\n",
              "    </tr>\n",
              "    <tr>\n",
              "      <th>mean</th>\n",
              "      <td>2010.576035</td>\n",
              "      <td>17.118369</td>\n",
              "      <td>28.568754</td>\n",
              "      <td>268.460994</td>\n",
              "      <td>353.316414</td>\n",
              "      <td>190.759101</td>\n",
              "      <td>3.422925</td>\n",
              "      <td>82.428958</td>\n",
              "      <td>0.004369</td>\n",
              "      <td>1.274392</td>\n",
              "      <td>8070.519659</td>\n",
              "      <td>61.592053</td>\n",
              "      <td>1.602947e+07</td>\n",
              "    </tr>\n",
              "    <tr>\n",
              "      <th>std</th>\n",
              "      <td>3.292381</td>\n",
              "      <td>16.706044</td>\n",
              "      <td>37.229532</td>\n",
              "      <td>418.593573</td>\n",
              "      <td>214.270957</td>\n",
              "      <td>185.044568</td>\n",
              "      <td>16.805942</td>\n",
              "      <td>44.864918</td>\n",
              "      <td>0.071991</td>\n",
              "      <td>0.605681</td>\n",
              "      <td>19.242100</td>\n",
              "      <td>46.033684</td>\n",
              "      <td>9.547912e+06</td>\n",
              "    </tr>\n",
              "    <tr>\n",
              "      <th>min</th>\n",
              "      <td>2004.000000</td>\n",
              "      <td>0.000000</td>\n",
              "      <td>0.000000</td>\n",
              "      <td>0.000000</td>\n",
              "      <td>100.000000</td>\n",
              "      <td>0.000000</td>\n",
              "      <td>0.000000</td>\n",
              "      <td>0.000000</td>\n",
              "      <td>0.000000</td>\n",
              "      <td>1.000000</td>\n",
              "      <td>8000.000000</td>\n",
              "      <td>0.000000</td>\n",
              "      <td>1.026070e+05</td>\n",
              "    </tr>\n",
              "    <tr>\n",
              "      <th>25%</th>\n",
              "      <td>2008.000000</td>\n",
              "      <td>0.000000</td>\n",
              "      <td>0.000000</td>\n",
              "      <td>20.000000</td>\n",
              "      <td>150.000000</td>\n",
              "      <td>100.000000</td>\n",
              "      <td>0.000000</td>\n",
              "      <td>48.000000</td>\n",
              "      <td>0.000000</td>\n",
              "      <td>1.000000</td>\n",
              "      <td>8070.000000</td>\n",
              "      <td>2.000000</td>\n",
              "      <td>6.363275e+06</td>\n",
              "    </tr>\n",
              "    <tr>\n",
              "      <th>50%</th>\n",
              "      <td>2011.000000</td>\n",
              "      <td>27.000000</td>\n",
              "      <td>5.000000</td>\n",
              "      <td>32.000000</td>\n",
              "      <td>300.000000</td>\n",
              "      <td>190.000000</td>\n",
              "      <td>0.000000</td>\n",
              "      <td>77.000000</td>\n",
              "      <td>0.000000</td>\n",
              "      <td>1.000000</td>\n",
              "      <td>8070.000000</td>\n",
              "      <td>95.000000</td>\n",
              "      <td>1.779194e+07</td>\n",
              "    </tr>\n",
              "    <tr>\n",
              "      <th>75%</th>\n",
              "      <td>2013.000000</td>\n",
              "      <td>31.000000</td>\n",
              "      <td>47.500000</td>\n",
              "      <td>101.000000</td>\n",
              "      <td>500.000000</td>\n",
              "      <td>220.000000</td>\n",
              "      <td>0.000000</td>\n",
              "      <td>115.000000</td>\n",
              "      <td>0.000000</td>\n",
              "      <td>1.000000</td>\n",
              "      <td>8070.000000</td>\n",
              "      <td>98.000000</td>\n",
              "      <td>2.400173e+07</td>\n",
              "    </tr>\n",
              "    <tr>\n",
              "      <th>max</th>\n",
              "      <td>2015.000000</td>\n",
              "      <td>99.000000</td>\n",
              "      <td>99.000000</td>\n",
              "      <td>999.000000</td>\n",
              "      <td>999.000000</td>\n",
              "      <td>999.000000</td>\n",
              "      <td>99.000000</td>\n",
              "      <td>179.000000</td>\n",
              "      <td>2.000000</td>\n",
              "      <td>8.000000</td>\n",
              "      <td>8560.000000</td>\n",
              "      <td>99.000000</td>\n",
              "      <td>3.062042e+07</td>\n",
              "    </tr>\n",
              "  </tbody>\n",
              "</table>\n",
              "</div>\n",
              "      <button class=\"colab-df-convert\" onclick=\"convertToInteractive('df-98741223-505f-424b-a56c-24e023b8f3ed')\"\n",
              "              title=\"Convert this dataframe to an interactive table.\"\n",
              "              style=\"display:none;\">\n",
              "        \n",
              "  <svg xmlns=\"http://www.w3.org/2000/svg\" height=\"24px\"viewBox=\"0 0 24 24\"\n",
              "       width=\"24px\">\n",
              "    <path d=\"M0 0h24v24H0V0z\" fill=\"none\"/>\n",
              "    <path d=\"M18.56 5.44l.94 2.06.94-2.06 2.06-.94-2.06-.94-.94-2.06-.94 2.06-2.06.94zm-11 1L8.5 8.5l.94-2.06 2.06-.94-2.06-.94L8.5 2.5l-.94 2.06-2.06.94zm10 10l.94 2.06.94-2.06 2.06-.94-2.06-.94-.94-2.06-.94 2.06-2.06.94z\"/><path d=\"M17.41 7.96l-1.37-1.37c-.4-.4-.92-.59-1.43-.59-.52 0-1.04.2-1.43.59L10.3 9.45l-7.72 7.72c-.78.78-.78 2.05 0 2.83L4 21.41c.39.39.9.59 1.41.59.51 0 1.02-.2 1.41-.59l7.78-7.78 2.81-2.81c.8-.78.8-2.07 0-2.86zM5.41 20L4 18.59l7.72-7.72 1.47 1.35L5.41 20z\"/>\n",
              "  </svg>\n",
              "      </button>\n",
              "      \n",
              "  <style>\n",
              "    .colab-df-container {\n",
              "      display:flex;\n",
              "      flex-wrap:wrap;\n",
              "      gap: 12px;\n",
              "    }\n",
              "\n",
              "    .colab-df-convert {\n",
              "      background-color: #E8F0FE;\n",
              "      border: none;\n",
              "      border-radius: 50%;\n",
              "      cursor: pointer;\n",
              "      display: none;\n",
              "      fill: #1967D2;\n",
              "      height: 32px;\n",
              "      padding: 0 0 0 0;\n",
              "      width: 32px;\n",
              "    }\n",
              "\n",
              "    .colab-df-convert:hover {\n",
              "      background-color: #E2EBFA;\n",
              "      box-shadow: 0px 1px 2px rgba(60, 64, 67, 0.3), 0px 1px 3px 1px rgba(60, 64, 67, 0.15);\n",
              "      fill: #174EA6;\n",
              "    }\n",
              "\n",
              "    [theme=dark] .colab-df-convert {\n",
              "      background-color: #3B4455;\n",
              "      fill: #D2E3FC;\n",
              "    }\n",
              "\n",
              "    [theme=dark] .colab-df-convert:hover {\n",
              "      background-color: #434B5C;\n",
              "      box-shadow: 0px 1px 3px 1px rgba(0, 0, 0, 0.15);\n",
              "      filter: drop-shadow(0px 1px 2px rgba(0, 0, 0, 0.3));\n",
              "      fill: #FFFFFF;\n",
              "    }\n",
              "  </style>\n",
              "\n",
              "      <script>\n",
              "        const buttonEl =\n",
              "          document.querySelector('#df-98741223-505f-424b-a56c-24e023b8f3ed button.colab-df-convert');\n",
              "        buttonEl.style.display =\n",
              "          google.colab.kernel.accessAllowed ? 'block' : 'none';\n",
              "\n",
              "        async function convertToInteractive(key) {\n",
              "          const element = document.querySelector('#df-98741223-505f-424b-a56c-24e023b8f3ed');\n",
              "          const dataTable =\n",
              "            await google.colab.kernel.invokeFunction('convertToInteractive',\n",
              "                                                     [key], {});\n",
              "          if (!dataTable) return;\n",
              "\n",
              "          const docLinkHtml = 'Like what you see? Visit the ' +\n",
              "            '<a target=\"_blank\" href=https://colab.research.google.com/notebooks/data_table.ipynb>data table notebook</a>'\n",
              "            + ' to learn more about interactive tables.';\n",
              "          element.innerHTML = '';\n",
              "          dataTable['output_type'] = 'display_data';\n",
              "          await google.colab.output.renderOutput(dataTable, element);\n",
              "          const docLink = document.createElement('div');\n",
              "          docLink.innerHTML = docLinkHtml;\n",
              "          element.appendChild(docLink);\n",
              "        }\n",
              "      </script>\n",
              "    </div>\n",
              "  </div>\n",
              "  "
            ]
          },
          "metadata": {},
          "execution_count": 7
        }
      ],
      "source": [
        "df.describe()"
      ]
    },
    {
      "cell_type": "code",
      "execution_count": null,
      "metadata": {
        "colab": {
          "base_uri": "https://localhost:8080/"
        },
        "id": "Ok_KHoVHLFHL",
        "outputId": "246430a5-2f54-4d6e-d0aa-2a30e639e6e6"
      },
      "outputs": [
        {
          "output_type": "execute_result",
          "data": {
            "text/plain": [
              "Age                                         0\n",
              "Race recode                                 0\n",
              "Year of diagnosis                           0\n",
              "Sex                                         0\n",
              "Primary Site  labeled                       0\n",
              "ICD-O-3 Hist behav                          0\n",
              "Laterality                                  0\n",
              "Site recode - rare tumors                   0\n",
              "AYA site recode                             0\n",
              "Derived AJCC T                              0\n",
              "Derived AJCC N                              0\n",
              "Derived AJCC M                              0\n",
              "RX Summ--Surg Prim Site                     0\n",
              "RX Summ--Surg Oth Reg                       0\n",
              "Reason no cancer - directed surgery         0\n",
              "Regional nodes examined                     0\n",
              "CS tumor size                               0\n",
              "CS extension                                0\n",
              "CS lymph nodes                              0\n",
              "CS mets at dx                               0\n",
              "Survival months                             0\n",
              "Vital status recode                         0\n",
              "Total number of benign tumors               0\n",
              "Total number of malignant tumor             0\n",
              "Race and origin recode                      0\n",
              "Histology ICD-O-2                           0\n",
              "Behavior code ICD-O-2                       0\n",
              "SEER cause-specific death classification    0\n",
              "Regional nodes positive                     0\n",
              "Grade                                       0\n",
              "Histology recode  broad groupings           0\n",
              "Combined Summary Stage                      0\n",
              "SEER Combined Summary Stage                 0\n",
              "Derived AJCC Stage Group                    0\n",
              "Diagnostic Confirmation                     0\n",
              "RX Summ--Scope Reg LN Sur                   0\n",
              "Patient ID                                  0\n",
              "dtype: int64"
            ]
          },
          "metadata": {},
          "execution_count": 8
        }
      ],
      "source": [
        "df.isnull().sum()"
      ]
    },
    {
      "cell_type": "code",
      "execution_count": null,
      "metadata": {
        "id": "yGw1O5BYTLbG"
      },
      "outputs": [],
      "source": [
        "df1=df"
      ]
    },
    {
      "cell_type": "code",
      "execution_count": null,
      "metadata": {
        "id": "2SJrRjkgSTK_"
      },
      "outputs": [],
      "source": [
        "df1=df1.drop(\n",
        "    [\n",
        "     'Patient ID',\n",
        "     'Diagnostic Confirmation',\n",
        "     'Combined Summary Stage',\n",
        "     'Behavior code ICD-O-2',\n",
        "     'SEER cause-specific death classification',\n",
        "     'Survival months',\n",
        "     'AYA site recode ',\n",
        "     'Year of diagnosis',\n",
        "     'Race recode',\n",
        "\n",
        "\n",
        "'CS mets at dx', 'Histology ICD-O-2', 'RX Summ--Surg Prim Site' # Feature selection\n",
        "\n",
        "\n",
        "    ],axis=1\n",
        "\n",
        ")"
      ]
    },
    {
      "cell_type": "code",
      "execution_count": null,
      "metadata": {
        "colab": {
          "base_uri": "https://localhost:8080/"
        },
        "id": "eZF_IVxRQFed",
        "outputId": "a5b917a7-8c5e-4267-c325-f8f3a3363b7c"
      },
      "outputs": [
        {
          "output_type": "execute_result",
          "data": {
            "text/plain": [
              "(4807, 25)"
            ]
          },
          "metadata": {},
          "execution_count": 11
        }
      ],
      "source": [
        "df1.shape"
      ]
    },
    {
      "cell_type": "code",
      "execution_count": null,
      "metadata": {
        "id": "_Axp6iB6QFZq"
      },
      "outputs": [],
      "source": [
        "df1.drop_duplicates(inplace=True)"
      ]
    },
    {
      "cell_type": "code",
      "execution_count": null,
      "metadata": {
        "colab": {
          "base_uri": "https://localhost:8080/"
        },
        "id": "bAEnHb_uQGSx",
        "outputId": "1e754a90-0ef3-4648-bf65-7812524e93df"
      },
      "outputs": [
        {
          "output_type": "execute_result",
          "data": {
            "text/plain": [
              "(4803, 25)"
            ]
          },
          "metadata": {},
          "execution_count": 13
        }
      ],
      "source": [
        "df1.shape"
      ]
    },
    {
      "cell_type": "code",
      "execution_count": null,
      "metadata": {
        "colab": {
          "base_uri": "https://localhost:8080/"
        },
        "id": "SHssXuZTV5Yy",
        "outputId": "0716031c-5b84-4147-8711-93496ac33749"
      },
      "outputs": [
        {
          "output_type": "stream",
          "name": "stdout",
          "text": [
            "<class 'pandas.core.frame.DataFrame'>\n",
            "Int64Index: 4803 entries, 0 to 4806\n",
            "Data columns (total 25 columns):\n",
            " #   Column                               Non-Null Count  Dtype  \n",
            "---  ------                               --------------  -----  \n",
            " 0   Age                                  4803 non-null   object \n",
            " 1   Sex                                  4803 non-null   object \n",
            " 2   Primary Site  labeled                4803 non-null   object \n",
            " 3   ICD-O-3 Hist behav                   4803 non-null   object \n",
            " 4   Laterality                           4803 non-null   object \n",
            " 5   Site recode - rare tumors            4803 non-null   object \n",
            " 6   Derived AJCC T                       4803 non-null   object \n",
            " 7   Derived AJCC N                       4803 non-null   object \n",
            " 8   Derived AJCC M                       4803 non-null   object \n",
            " 9   RX Summ--Surg Oth Reg                4803 non-null   object \n",
            " 10  Reason no cancer - directed surgery  4803 non-null   object \n",
            " 11  Regional nodes examined              4803 non-null   int64  \n",
            " 12  CS tumor size                        4803 non-null   float64\n",
            " 13  CS extension                         4803 non-null   float64\n",
            " 14  CS lymph nodes                       4803 non-null   float64\n",
            " 15  Vital status recode                  4803 non-null   object \n",
            " 16  Total number of benign tumors        4803 non-null   int64  \n",
            " 17  Total number of malignant tumor      4803 non-null   int64  \n",
            " 18  Race and origin recode               4803 non-null   object \n",
            " 19  Regional nodes positive              4803 non-null   int64  \n",
            " 20  Grade                                4803 non-null   object \n",
            " 21  Histology recode  broad groupings    4803 non-null   object \n",
            " 22  SEER Combined Summary Stage          4803 non-null   object \n",
            " 23  Derived AJCC Stage Group             4803 non-null   object \n",
            " 24  RX Summ--Scope Reg LN Sur            4803 non-null   object \n",
            "dtypes: float64(3), int64(4), object(18)\n",
            "memory usage: 975.6+ KB\n"
          ]
        }
      ],
      "source": [
        "df1.info()"
      ]
    },
    {
      "cell_type": "code",
      "execution_count": null,
      "metadata": {
        "colab": {
          "base_uri": "https://localhost:8080/"
        },
        "id": "YKlmAqWshJad",
        "outputId": "0d658d2c-079b-444d-bc81-2d5586a3363f"
      },
      "outputs": [
        {
          "output_type": "execute_result",
          "data": {
            "text/plain": [
              "Index(['Age', 'Sex', 'Primary Site  labeled', 'ICD-O-3 Hist behav',\n",
              "       'Laterality', 'Site recode - rare tumors', 'Derived AJCC T',\n",
              "       'Derived AJCC N', 'Derived AJCC M', 'RX Summ--Surg Oth Reg',\n",
              "       'Reason no cancer - directed surgery', 'Regional nodes examined ',\n",
              "       'CS tumor size', 'CS extension', 'CS lymph nodes',\n",
              "       'Vital status recode', 'Total number of benign tumors',\n",
              "       'Total number of malignant tumor', 'Race and origin recode',\n",
              "       'Regional nodes positive', 'Grade', 'Histology recode  broad groupings',\n",
              "       'SEER Combined Summary Stage', 'Derived AJCC Stage Group',\n",
              "       'RX Summ--Scope Reg LN Sur'],\n",
              "      dtype='object')"
            ]
          },
          "metadata": {},
          "execution_count": 15
        }
      ],
      "source": [
        "df1.columns"
      ]
    },
    {
      "cell_type": "code",
      "execution_count": null,
      "metadata": {
        "id": "RiNH9atKhNSr"
      },
      "outputs": [],
      "source": []
    },
    {
      "cell_type": "code",
      "execution_count": null,
      "metadata": {
        "colab": {
          "base_uri": "https://localhost:8080/"
        },
        "id": "iZWwGx86JngS",
        "outputId": "fc2c00d0-ac79-46fd-be05-1ab29f7730ab"
      },
      "outputs": [
        {
          "output_type": "stream",
          "name": "stdout",
          "text": [
            "<class 'pandas.core.frame.DataFrame'>\n",
            "Int64Index: 4803 entries, 0 to 4806\n",
            "Data columns (total 25 columns):\n",
            " #   Column                               Non-Null Count  Dtype  \n",
            "---  ------                               --------------  -----  \n",
            " 0   Age                                  4803 non-null   object \n",
            " 1   Sex                                  4803 non-null   object \n",
            " 2   Primary Site  labeled                4803 non-null   object \n",
            " 3   ICD-O-3 Hist behav                   4803 non-null   object \n",
            " 4   Laterality                           4803 non-null   object \n",
            " 5   Site recode - rare tumors            4803 non-null   object \n",
            " 6   Derived AJCC T                       4803 non-null   object \n",
            " 7   Derived AJCC N                       4803 non-null   object \n",
            " 8   Derived AJCC M                       4803 non-null   object \n",
            " 9   RX Summ--Surg Oth Reg                4803 non-null   object \n",
            " 10  Reason no cancer - directed surgery  4803 non-null   object \n",
            " 11  Regional nodes examined              4803 non-null   int64  \n",
            " 12  CS tumor size                        4803 non-null   float64\n",
            " 13  CS extension                         4803 non-null   float64\n",
            " 14  CS lymph nodes                       4803 non-null   float64\n",
            " 15  Vital status recode                  4803 non-null   object \n",
            " 16  Total number of benign tumors        4803 non-null   int64  \n",
            " 17  Total number of malignant tumor      4803 non-null   int64  \n",
            " 18  Race and origin recode               4803 non-null   object \n",
            " 19  Regional nodes positive              4803 non-null   int64  \n",
            " 20  Grade                                4803 non-null   object \n",
            " 21  Histology recode  broad groupings    4803 non-null   object \n",
            " 22  SEER Combined Summary Stage          4803 non-null   object \n",
            " 23  Derived AJCC Stage Group             4803 non-null   object \n",
            " 24  RX Summ--Scope Reg LN Sur            4803 non-null   object \n",
            "dtypes: float64(3), int64(4), object(18)\n",
            "memory usage: 975.6+ KB\n"
          ]
        }
      ],
      "source": [
        "df1.info()"
      ]
    },
    {
      "cell_type": "code",
      "execution_count": null,
      "metadata": {
        "colab": {
          "base_uri": "https://localhost:8080/"
        },
        "id": "gdLnhJl0JndD",
        "outputId": "d759ac49-2c17-4cd2-b60a-d8c62911f9bb"
      },
      "outputs": [
        {
          "output_type": "execute_result",
          "data": {
            "text/plain": [
              "Index(['Age', 'Sex', 'Primary Site  labeled', 'ICD-O-3 Hist behav',\n",
              "       'Laterality', 'Site recode - rare tumors', 'Derived AJCC T',\n",
              "       'Derived AJCC N', 'Derived AJCC M', 'RX Summ--Surg Oth Reg',\n",
              "       'Reason no cancer - directed surgery', 'Regional nodes examined ',\n",
              "       'CS tumor size', 'CS extension', 'CS lymph nodes',\n",
              "       'Vital status recode', 'Total number of benign tumors',\n",
              "       'Total number of malignant tumor', 'Race and origin recode',\n",
              "       'Regional nodes positive', 'Grade', 'Histology recode  broad groupings',\n",
              "       'SEER Combined Summary Stage', 'Derived AJCC Stage Group',\n",
              "       'RX Summ--Scope Reg LN Sur'],\n",
              "      dtype='object')"
            ]
          },
          "metadata": {},
          "execution_count": 17
        }
      ],
      "source": [
        "df1.columns"
      ]
    },
    {
      "cell_type": "code",
      "execution_count": null,
      "metadata": {
        "id": "kbBHPePDZLvh"
      },
      "outputs": [],
      "source": []
    },
    {
      "cell_type": "markdown",
      "metadata": {
        "id": "kWmM6BqtTS-y"
      },
      "source": [
        "# Feature Encoding"
      ]
    },
    {
      "cell_type": "code",
      "execution_count": null,
      "metadata": {
        "id": "lkN-3QPmcdGV"
      },
      "outputs": [],
      "source": []
    },
    {
      "cell_type": "code",
      "execution_count": null,
      "metadata": {
        "id": "orPbHb5VZvY5"
      },
      "outputs": [],
      "source": [
        "dummies=pd.get_dummies(df1[[ 'Age', 'Sex', 'Primary Site  labeled', 'ICD-O-3 Hist behav',\n",
        "       'Laterality', 'Site recode - rare tumors', 'Derived AJCC T',\n",
        "       'Derived AJCC N', 'Derived AJCC M',\n",
        "       'RX Summ--Surg Oth Reg', 'Reason no cancer - directed surgery',\n",
        "\n",
        "\n",
        "       'Race and origin recode',  'Grade', 'Histology recode  broad groupings',\n",
        "       'SEER Combined Summary Stage', 'Derived AJCC Stage Group',\n",
        "       'RX Summ--Scope Reg LN Sur'\n",
        "\n",
        "]])\n"
      ]
    },
    {
      "cell_type": "code",
      "execution_count": null,
      "metadata": {
        "id": "mZmjhR8UcH4o"
      },
      "outputs": [],
      "source": [
        "df1=df1.drop(\n",
        "\n",
        "[\n",
        " 'Age', 'Sex', 'Primary Site  labeled', 'ICD-O-3 Hist behav',\n",
        "       'Laterality', 'Site recode - rare tumors', 'Derived AJCC T',\n",
        "       'Derived AJCC N', 'Derived AJCC M',\n",
        "       'RX Summ--Surg Oth Reg', 'Reason no cancer - directed surgery',\n",
        "\n",
        "\n",
        "       'Race and origin recode',  'Grade', 'Histology recode  broad groupings',\n",
        "       'SEER Combined Summary Stage', 'Derived AJCC Stage Group',\n",
        "       'RX Summ--Scope Reg LN Sur'\n",
        "],axis=1\n",
        "\n",
        "\n",
        ")"
      ]
    },
    {
      "cell_type": "code",
      "execution_count": null,
      "metadata": {
        "id": "vrrXQsw4cW8l"
      },
      "outputs": [],
      "source": [
        "df1=pd.concat([df1,dummies],axis=1)"
      ]
    },
    {
      "cell_type": "code",
      "execution_count": null,
      "metadata": {
        "colab": {
          "base_uri": "https://localhost:8080/"
        },
        "id": "qGI5Qf_naIGL",
        "outputId": "016b53bc-bae6-4edd-c352-95d3c5402b5c"
      },
      "outputs": [
        {
          "output_type": "execute_result",
          "data": {
            "text/plain": [
              "Index(['Regional nodes examined ', 'CS tumor size', 'CS extension',\n",
              "       'CS lymph nodes', 'Vital status recode',\n",
              "       'Total number of benign tumors', 'Total number of malignant tumor',\n",
              "       'Regional nodes positive', 'Age_20-24 years', 'Age_25-29 years',\n",
              "       ...\n",
              "       'Derived AJCC Stage Group_UNK Stage',\n",
              "       'RX Summ--Scope Reg LN Sur_1 to 3 regional lymph nodes removed',\n",
              "       'RX Summ--Scope Reg LN Sur_4 or more regional lymph nodes removed',\n",
              "       'RX Summ--Scope Reg LN Sur_Biopsy or aspiration of regional lymph node, NOS',\n",
              "       'RX Summ--Scope Reg LN Sur_None',\n",
              "       'RX Summ--Scope Reg LN Sur_Number of regional lymph nodes removed unknown',\n",
              "       'RX Summ--Scope Reg LN Sur_Sentinel lymph node biopsy',\n",
              "       'RX Summ--Scope Reg LN Sur_Sentinel node biopsy and lym nd removed different times',\n",
              "       'RX Summ--Scope Reg LN Sur_Sentinel node biopsy and lym nd removed same/unstated time',\n",
              "       'RX Summ--Scope Reg LN Sur_Unknown or not applicable'],\n",
              "      dtype='object', length=140)"
            ]
          },
          "metadata": {},
          "execution_count": 21
        }
      ],
      "source": [
        "df1.columns"
      ]
    },
    {
      "cell_type": "code",
      "execution_count": null,
      "metadata": {
        "colab": {
          "base_uri": "https://localhost:8080/"
        },
        "id": "m5DxpG0NXp1B",
        "outputId": "038b4b04-fe8f-4e33-81d9-3bf9af7e2061"
      },
      "outputs": [
        {
          "output_type": "execute_result",
          "data": {
            "text/plain": [
              "Alive    4166\n",
              "Dead      637\n",
              "Name: Vital status recode, dtype: int64"
            ]
          },
          "metadata": {},
          "execution_count": 22
        }
      ],
      "source": [
        "df1['Vital status recode'].value_counts()"
      ]
    },
    {
      "cell_type": "code",
      "execution_count": null,
      "metadata": {
        "colab": {
          "base_uri": "https://localhost:8080/"
        },
        "id": "4B7OIWzCjxVH",
        "outputId": "ec9ff9cc-a09b-4e94-cbe1-8eeb4e12d4da"
      },
      "outputs": [
        {
          "output_type": "stream",
          "name": "stdout",
          "text": [
            "<class 'pandas.core.frame.DataFrame'>\n",
            "Int64Index: 4803 entries, 0 to 4806\n",
            "Columns: 140 entries, Regional nodes examined  to RX Summ--Scope Reg LN Sur_Unknown or not applicable\n",
            "dtypes: float64(3), int64(4), object(1), uint8(132)\n",
            "memory usage: 956.8+ KB\n"
          ]
        }
      ],
      "source": [
        "df1.info()"
      ]
    },
    {
      "cell_type": "code",
      "execution_count": null,
      "metadata": {
        "colab": {
          "base_uri": "https://localhost:8080/"
        },
        "id": "tIfXioiijxEH",
        "outputId": "8c60ceb8-7ad6-4089-a515-217dc6b4db8a"
      },
      "outputs": [
        {
          "output_type": "execute_result",
          "data": {
            "text/plain": [
              "1    4166\n",
              "0     637\n",
              "Name: Vital status recode, dtype: int64"
            ]
          },
          "metadata": {},
          "execution_count": 24
        }
      ],
      "source": [
        "def convert_months(x):\n",
        "    if x=='Alive':\n",
        "        return 1\n",
        "    elif x=='Dead':\n",
        "        return 0\n",
        "\n",
        "\n",
        "df1['Vital status recode']=df1['Vital status recode'].apply(convert_months)\n",
        "df1['Vital status recode'].value_counts()"
      ]
    },
    {
      "cell_type": "code",
      "execution_count": null,
      "metadata": {
        "id": "WiPsdf3FjxAs"
      },
      "outputs": [],
      "source": []
    },
    {
      "cell_type": "code",
      "execution_count": null,
      "metadata": {
        "id": "TN-SbxRsiVJi"
      },
      "outputs": [],
      "source": []
    },
    {
      "cell_type": "code",
      "execution_count": null,
      "metadata": {
        "id": "5_Qb9ep0XpyU"
      },
      "outputs": [],
      "source": [
        "x=df1.drop(['Vital status recode'],axis=1)\n",
        "y=df1['Vital status recode']"
      ]
    },
    {
      "cell_type": "code",
      "execution_count": null,
      "metadata": {
        "colab": {
          "base_uri": "https://localhost:8080/"
        },
        "id": "4eqvoJ197sfF",
        "outputId": "6a092fcd-766d-4092-b4e3-b82b01154e37"
      },
      "outputs": [
        {
          "output_type": "execute_result",
          "data": {
            "text/plain": [
              "0    4166\n",
              "1    4166\n",
              "Name: Vital status recode, dtype: int64"
            ]
          },
          "metadata": {},
          "execution_count": 26
        }
      ],
      "source": [
        "from imblearn.over_sampling import SMOTE\n",
        "SM=SMOTE(sampling_strategy='auto')\n",
        "x, y = SM.fit_resample(x, y)\n",
        "y.value_counts()"
      ]
    },
    {
      "cell_type": "code",
      "execution_count": null,
      "metadata": {
        "id": "7oyNUrAH7ygW"
      },
      "outputs": [],
      "source": []
    },
    {
      "cell_type": "code",
      "execution_count": null,
      "metadata": {
        "id": "b3ejbC5JdJm5"
      },
      "outputs": [],
      "source": [
        "from sklearn.model_selection import train_test_split\n",
        "xtrain,xtest,ytrain,ytest=train_test_split(x,y,test_size=.20,random_state=0,stratify=y)"
      ]
    },
    {
      "cell_type": "code",
      "execution_count": null,
      "metadata": {
        "id": "AxUT5NHSiDip"
      },
      "outputs": [],
      "source": []
    },
    {
      "cell_type": "code",
      "execution_count": null,
      "metadata": {
        "colab": {
          "base_uri": "https://localhost:8080/"
        },
        "id": "x1TZf6ObjBCH",
        "outputId": "4af0cf64-8318-4550-8ef5-4c082f4b185f"
      },
      "outputs": [
        {
          "output_type": "execute_result",
          "data": {
            "text/plain": [
              "0    834\n",
              "1    833\n",
              "Name: Vital status recode, dtype: int64"
            ]
          },
          "metadata": {},
          "execution_count": 28
        }
      ],
      "source": [
        "ytest.value_counts()"
      ]
    },
    {
      "cell_type": "code",
      "execution_count": null,
      "metadata": {
        "id": "E4dhKlaP5_6T"
      },
      "outputs": [],
      "source": []
    },
    {
      "cell_type": "code",
      "execution_count": null,
      "metadata": {
        "id": "JsyJ6BXimD3l"
      },
      "outputs": [],
      "source": []
    },
    {
      "cell_type": "code",
      "execution_count": null,
      "metadata": {
        "id": "YHKwYlZO5_mA"
      },
      "outputs": [],
      "source": [
        "def roc_auc_values(MODEL):\n",
        "  probs = MODEL.predict_proba(xtest)\n",
        "  probs = probs[:, 1]\n",
        "  auc = roc_auc_score(ytest, probs)\n",
        "  fpr, tpr, _ = roc_curve(ytest, probs)\n",
        "  a={'tpr':tpr,\n",
        "     'fpr':fpr,\n",
        "     'auc':auc\n",
        "    }\n",
        "  return a\n"
      ]
    },
    {
      "cell_type": "code",
      "execution_count": null,
      "metadata": {
        "id": "vopHcSok8wuO"
      },
      "outputs": [],
      "source": [
        "from sklearn.metrics import confusion_matrix, classification_report, log_loss\n",
        "from sklearn import metrics\n",
        "from sklearn.metrics import f1_score\n",
        "from sklearn.metrics import precision_score\n",
        "from sklearn.metrics import recall_score\n",
        "from sklearn.metrics import roc_auc_score\n",
        "from sklearn.metrics import roc_curve, roc_auc_score , auc\n",
        "from sklearn.model_selection import cross_val_score\n",
        "from sklearn.model_selection import StratifiedKFold\n",
        "import numpy as np\n",
        "import matplotlib.pyplot as plt"
      ]
    },
    {
      "cell_type": "code",
      "execution_count": null,
      "metadata": {
        "colab": {
          "base_uri": "https://localhost:8080/"
        },
        "id": "3RlWJ6Ue5_f2",
        "outputId": "0f52c0be-b71b-4338-eeeb-a8128fed2525"
      },
      "outputs": [
        {
          "output_type": "stream",
          "name": "stdout",
          "text": [
            "Confusion matrix is :\n",
            "[[759  75]\n",
            " [ 23 810]]\n",
            "\n",
            "Classification Report : \n",
            "              precision    recall  f1-score   support\n",
            "\n",
            "           0       0.97      0.91      0.94       834\n",
            "           1       0.92      0.97      0.94       833\n",
            "\n",
            "    accuracy                           0.94      1667\n",
            "   macro avg       0.94      0.94      0.94      1667\n",
            "weighted avg       0.94      0.94      0.94      1667\n",
            "\n",
            "\n",
            "\n",
            "Testing accuracy :  0.9412117576484703\n",
            "Training accuracy: 100.0\n",
            "F1 Score : 0.9411566811512351\n",
            "Precision : 0.9429212362911266\n",
            "Recall : 0.9412304490141381\n",
            "AUC = 0.977\n",
            "Recall :  0.9705882352941176\n",
            "Specificity :  0.9152542372881356\n",
            "Precision :  0.9100719424460432\n",
            "F1_score :  0.9393564356435643\n",
            "10 fold cross validation:  [0.59592326 0.8057554  0.97959184 0.97238896 0.97358944 0.98319328\n",
            " 0.97118848 0.97959184 0.99159664 0.97478992]\n",
            "Mean of 10 fold cross validation :  0.9227609029223199\n"
          ]
        }
      ],
      "source": [
        "from sklearn.ensemble import RandomForestClassifier\n",
        "RF=RandomForestClassifier()\n",
        "RF.fit(xtrain,ytrain)\n",
        "\n",
        "print('Confusion matrix is :')\n",
        "cm = confusion_matrix(ytest, RF.predict(xtest))\n",
        "TP = cm[0][0]\n",
        "TN = cm[1][1]\n",
        "FP = cm[0][1]\n",
        "FN = cm[1][0]\n",
        "print(cm)\n",
        "print()\n",
        "classificationReport = classification_report(ytest, RF.predict(xtest))\n",
        "print(\"Classification Report : \")\n",
        "print (classificationReport)\n",
        "print(\"\\n\")\n",
        "print('Testing accuracy : ',RF.score(xtest,ytest))\n",
        "print(\"Training accuracy:\",RF.score(xtrain,ytrain)*100)\n",
        "print(\"F1 Score :\",f1_score(ytest, RF.predict(xtest),average='macro'))\n",
        "print(\"Precision :\", precision_score(ytest, RF.predict(xtest),average='macro'))\n",
        "print(\"Recall :\", recall_score(ytest, RF.predict(xtest),average='macro'))\n",
        "probs = RF.predict_proba(xtest)\n",
        "probs = probs[:, 1]\n",
        "auc = roc_auc_score(ytest, probs)\n",
        "fpr, tpr, _ = roc_curve(ytest, probs)\n",
        "auc1=metrics.auc(fpr, tpr)\n",
        "print('AUC = %.3f' % (auc1))\n",
        "Recall=TP/(TP+FN)\n",
        "print('Recall : ', Recall )\n",
        "Specificy=TN/(TN+FP)\n",
        "print('Specificity : ', Specificy)\n",
        "precision= TP/(TP+FP)\n",
        "print('Precision : ', precision)\n",
        "F1_score=2*((precision*Recall)/(precision+Recall))\n",
        "print('F1_score : ', F1_score)\n",
        "\n",
        "skfold=StratifiedKFold(n_splits=10)\n",
        "scores=cross_val_score(RF,x,y,cv=skfold)\n",
        "print(\"10 fold cross validation: \",scores)\n",
        "print(\"Mean of 10 fold cross validation : \",np.mean(scores))\n",
        "rf=roc_auc_values(RF)\n"
      ]
    },
    {
      "cell_type": "code",
      "source": [
        "from sklearn.metrics import confusion_matrix\n",
        "import pandas as pd\n",
        "import seaborn as sn\n",
        "import matplotlib.pyplot as plt\n",
        "%matplotlib inline\n",
        "import numpy as np\n",
        "\n",
        "data=[[759 , 75],\n",
        " [ 27 , 806]]\n",
        "\n",
        "y_true = [\"Dead\",\"Alive\"]\n",
        "y_pred =  [\"Dead\",\"Alive\"]\n",
        "\n",
        "df_cm = pd.DataFrame(data, columns=np.unique(y_true), index = np.unique(y_true))\n",
        "df_cm.index.name = 'Actual'\n",
        "df_cm.columns.name = 'Predicted'\n",
        "plt.figure(figsize = (10,7))\n",
        "sn.set(font_scale=1.4)#for label size\n",
        "sn.heatmap(df_cm, annot=True,annot_kws={\"size\": 16}, fmt='g')# font size"
      ],
      "metadata": {
        "colab": {
          "base_uri": "https://localhost:8080/",
          "height": 478
        },
        "id": "KbSHFT_7XyyG",
        "outputId": "0e44f0ee-95ca-49cb-dff0-07106a80aaa5"
      },
      "execution_count": null,
      "outputs": [
        {
          "output_type": "execute_result",
          "data": {
            "text/plain": [
              "<matplotlib.axes._subplots.AxesSubplot at 0x7f14d6fe2af0>"
            ]
          },
          "metadata": {},
          "execution_count": 32
        },
        {
          "output_type": "display_data",
          "data": {
            "text/plain": [
              "<Figure size 720x504 with 2 Axes>"
            ],
            "image/png": "[encoded data removed]"
          },
          "metadata": {
            "needs_background": "light"
          }
        }
      ]
    },
    {
      "cell_type": "code",
      "execution_count": null,
      "metadata": {
        "colab": {
          "base_uri": "https://localhost:8080/"
        },
        "id": "v3hl4qmi5_bs",
        "outputId": "efc2766e-b527-4893-bc5a-2c17c1f84a17"
      },
      "outputs": [
        {
          "output_type": "stream",
          "name": "stdout",
          "text": [
            "Confusion matrix is :\n",
            "[[745  89]\n",
            " [121 712]]\n",
            "\n",
            "Classification Report : \n",
            "              precision    recall  f1-score   support\n",
            "\n",
            "           0       0.86      0.89      0.88       834\n",
            "           1       0.89      0.85      0.87       833\n",
            "\n",
            "    accuracy                           0.87      1667\n",
            "   macro avg       0.87      0.87      0.87      1667\n",
            "weighted avg       0.87      0.87      0.87      1667\n",
            "\n",
            "\n",
            "\n",
            "Testing accuracy :  0.8740251949610078\n",
            "Training accuracy: 100.0\n",
            "F1 Score : 0.8739758081935345\n",
            "Precision : 0.8745830125737747\n",
            "Recall : 0.8740136342306707\n",
            "AUC = 0.874\n",
            "Sensitivity :  0.8602771362586605\n",
            "Specificity :  0.8888888888888888\n",
            "false positive rate :  0.1111111111111111\n",
            "false negative rate :  0.1397228637413395\n",
            "Negative Predictive Value :  0.8547418967587035\n",
            "False Discovery rate :  0.10671462829736211\n",
            "Mean Absolute Error: 0.1259748050389922\n",
            "10 fold cross validation:  [0.58153477 0.76498801 0.93157263 0.89915966 0.91476591 0.93517407\n",
            " 0.90396158 0.93037215 0.92436975 0.91116447]\n",
            "Mean of 10 fold cross validation :  0.8697062997861014\n"
          ]
        }
      ],
      "source": [
        "from sklearn.tree import DecisionTreeClassifier\n",
        "DT=DecisionTreeClassifier()\n",
        "DT.fit(xtrain,ytrain)\n",
        "print('Confusion matrix is :')\n",
        "cm = confusion_matrix(ytest, DT.predict(xtest))\n",
        "TP = cm[0][0]\n",
        "TN = cm[1][1]\n",
        "FP = cm[0][1]\n",
        "FN = cm[1][0]\n",
        "print(cm)\n",
        "print()\n",
        "classificationReport = classification_report(ytest, DT.predict(xtest))\n",
        "print(\"Classification Report : \")\n",
        "print (classificationReport)\n",
        "print(\"\\n\")\n",
        "print('Testing accuracy : ',DT.score(xtest,ytest))\n",
        "print(\"Training accuracy:\",DT.score(xtrain,ytrain)*100)\n",
        "print(\"F1 Score :\",f1_score(ytest, DT.predict(xtest),average='macro'))\n",
        "print(\"Precision :\", precision_score(ytest, DT.predict(xtest),average='macro'))\n",
        "print(\"Recall :\", recall_score(ytest, DT.predict(xtest),average='macro'))\n",
        "probs = DT.predict_proba(xtest)\n",
        "probs = probs[:, 1]\n",
        "auc = roc_auc_score(ytest, probs)\n",
        "fpr, tpr, _ = roc_curve(ytest, probs)\n",
        "auc1=metrics.auc(fpr, tpr)\n",
        "print('AUC = %.3f' % (auc1))\n",
        "print('Sensitivity : ', TP/(TP+FN))\n",
        "print('Specificity : ', TN/(TN+FP))\n",
        "print('false positive rate : ', FP/(FP+TN))\n",
        "print('false negative rate : ', FN/(FN+TP))\n",
        "print('Negative Predictive Value : ', TN/(TN+FN))\n",
        "print('False Discovery rate : ', FP/(TP+FP))\n",
        "print('Mean Absolute Error:', metrics.mean_absolute_error(ytest, DT.predict(xtest)))\n",
        "\n",
        "skfold=StratifiedKFold(n_splits=10)\n",
        "scores=cross_val_score(DT,x,y,cv=skfold)\n",
        "print(\"10 fold cross validation: \",scores)\n",
        "print(\"Mean of 10 fold cross validation : \",np.mean(scores))\n",
        "dt=roc_auc_values(DT)\n",
        "\n"
      ]
    },
    {
      "cell_type": "code",
      "execution_count": null,
      "metadata": {
        "colab": {
          "base_uri": "https://localhost:8080/"
        },
        "id": "wMVPFK646Rxp",
        "outputId": "9c75df5f-6baa-4b62-8b88-ae3725f81d1b"
      },
      "outputs": [
        {
          "output_type": "stream",
          "name": "stdout",
          "text": [
            "Confusion matrix is :\n",
            "[[740  94]\n",
            " [ 45 788]]\n",
            "\n",
            "Classification Report : \n",
            "              precision    recall  f1-score   support\n",
            "\n",
            "           0       0.94      0.89      0.91       834\n",
            "           1       0.89      0.95      0.92       833\n",
            "\n",
            "    accuracy                           0.92      1667\n",
            "   macro avg       0.92      0.92      0.92      1667\n",
            "weighted avg       0.92      0.92      0.92      1667\n",
            "\n",
            "\n",
            "\n",
            "Testing accuracy :  0.9166166766646671\n",
            "Training accuracy: 91.4628657164291\n",
            "F1 Score : 0.9165474854902695\n",
            "Precision : 0.918049597758424\n",
            "Recall : 0.9166342796111251\n",
            "AUC = 0.959\n",
            "Sensitivity :  0.9426751592356688\n",
            "Specificity :  0.8934240362811792\n",
            "false positive rate :  0.10657596371882086\n",
            "false negative rate :  0.05732484076433121\n",
            "Negative Predictive Value :  0.9459783913565426\n",
            "False Discovery rate :  0.11270983213429256\n",
            "Mean Absolute Error: 0.08338332333533294\n",
            "10 fold cross validation:  [0.54556355 0.76738609 0.97358944 0.95198079 0.96638655 0.969988\n",
            " 0.94957983 0.9819928  0.97358944 0.95318127]\n",
            "Mean of 10 fold cross validation :  0.9033237755533868\n"
          ]
        }
      ],
      "source": [
        "from sklearn.ensemble import AdaBoostClassifier\n",
        "ABC = AdaBoostClassifier()\n",
        "ABC.fit(xtrain,ytrain)\n",
        "print('Confusion matrix is :')\n",
        "cm = confusion_matrix(ytest, ABC.predict(xtest))\n",
        "TP = cm[0][0]\n",
        "TN = cm[1][1]\n",
        "FP = cm[0][1]\n",
        "FN = cm[1][0]\n",
        "print(cm)\n",
        "print()\n",
        "classificationReport = classification_report(ytest, ABC.predict(xtest))\n",
        "print(\"Classification Report : \")\n",
        "print (classificationReport)\n",
        "print(\"\\n\")\n",
        "print('Testing accuracy : ',ABC.score(xtest,ytest))\n",
        "print(\"Training accuracy:\",ABC.score(xtrain,ytrain)*100)\n",
        "print(\"F1 Score :\",f1_score(ytest, ABC.predict(xtest),average='macro'))\n",
        "print(\"Precision :\", precision_score(ytest, ABC.predict(xtest),average='macro'))\n",
        "print(\"Recall :\", recall_score(ytest, ABC.predict(xtest),average='macro'))\n",
        "probs = ABC.predict_proba(xtest)\n",
        "probs = probs[:, 1]\n",
        "auc = roc_auc_score(ytest, probs)\n",
        "fpr, tpr, _ = roc_curve(ytest, probs)\n",
        "auc1=metrics.auc(fpr, tpr)\n",
        "print('AUC = %.3f' % (auc1))\n",
        "print('Sensitivity : ', TP/(TP+FN))\n",
        "print('Specificity : ', TN/(TN+FP))\n",
        "print('false positive rate : ', FP/(FP+TN))\n",
        "print('false negative rate : ', FN/(FN+TP))\n",
        "print('Negative Predictive Value : ', TN/(TN+FN))\n",
        "print('False Discovery rate : ', FP/(TP+FP))\n",
        "print('Mean Absolute Error:', metrics.mean_absolute_error(ytest, ABC.predict(xtest)))\n",
        "\n",
        "skfold=StratifiedKFold(n_splits=10)\n",
        "scores=cross_val_score(ABC,x,y,cv=skfold)\n",
        "print(\"10 fold cross validation: \",scores)\n",
        "print(\"Mean of 10 fold cross validation : \",np.mean(scores))\n",
        "abc=roc_auc_values(ABC)\n",
        "\n"
      ]
    },
    {
      "cell_type": "code",
      "execution_count": null,
      "metadata": {
        "colab": {
          "base_uri": "https://localhost:8080/"
        },
        "id": "6oxpke-u6RwO",
        "outputId": "b61e1683-c7a0-4bdc-c8e7-ec241a2fc1af"
      },
      "outputs": [
        {
          "output_type": "stream",
          "name": "stdout",
          "text": [
            "Confusion matrix is :\n",
            "[[737  97]\n",
            " [ 34 799]]\n",
            "\n",
            "Classification Report : \n",
            "              precision    recall  f1-score   support\n",
            "\n",
            "           0       0.96      0.88      0.92       834\n",
            "           1       0.89      0.96      0.92       833\n",
            "\n",
            "    accuracy                           0.92      1667\n",
            "   macro avg       0.92      0.92      0.92      1667\n",
            "weighted avg       0.92      0.92      0.92      1667\n",
            "\n",
            "\n",
            "\n",
            "Testing accuracy :  0.9214157168566287\n",
            "Training accuracy: 92.63315828957239\n",
            "F1 Score : 0.9213068616905311\n",
            "Precision : 0.9238212490735593\n",
            "Recall : 0.9214383595164684\n",
            "AUC = 0.965\n",
            "Sensitivity :  0.9559014267185474\n",
            "Specificity :  0.8917410714285714\n",
            "false positive rate :  0.10825892857142858\n",
            "false negative rate :  0.04409857328145266\n",
            "Negative Predictive Value :  0.9591836734693877\n",
            "False Discovery rate :  0.11630695443645084\n",
            "Mean Absolute Error: 0.07858428314337132\n",
            "10 fold cross validation:  [0.55395683 0.77577938 0.98319328 0.96758703 0.96278511 0.97839136\n",
            " 0.96398559 0.98559424 0.98319328 0.96158463]\n",
            "Mean of 10 fold cross validation :  0.9116050736841498\n"
          ]
        }
      ],
      "source": [
        "import xgboost\n",
        "XGB=xgboost.XGBClassifier()\n",
        "XGB.fit(xtrain,ytrain)\n",
        "print('Confusion matrix is :')\n",
        "cm = confusion_matrix(ytest, XGB.predict(xtest))\n",
        "TP = cm[0][0]\n",
        "TN = cm[1][1]\n",
        "FP = cm[0][1]\n",
        "FN = cm[1][0]\n",
        "print(cm)\n",
        "print()\n",
        "classificationReport = classification_report(ytest, XGB.predict(xtest))\n",
        "print(\"Classification Report : \")\n",
        "print (classificationReport)\n",
        "print(\"\\n\")\n",
        "print('Testing accuracy : ',XGB.score(xtest,ytest))\n",
        "print(\"Training accuracy:\",XGB.score(xtrain,ytrain)*100)\n",
        "print(\"F1 Score :\",f1_score(ytest, XGB.predict(xtest),average='macro'))\n",
        "print(\"Precision :\", precision_score(ytest, XGB.predict(xtest),average='macro'))\n",
        "print(\"Recall :\", recall_score(ytest, XGB.predict(xtest),average='macro'))\n",
        "probs = XGB.predict_proba(xtest)\n",
        "probs = probs[:, 1]\n",
        "auc = roc_auc_score(ytest, probs)\n",
        "fpr, tpr, _ = roc_curve(ytest, probs)\n",
        "auc1=metrics.auc(fpr, tpr)\n",
        "print('AUC = %.3f' % (auc1))\n",
        "print('Sensitivity : ', TP/(TP+FN))\n",
        "print('Specificity : ', TN/(TN+FP))\n",
        "print('false positive rate : ', FP/(FP+TN))\n",
        "print('false negative rate : ', FN/(FN+TP))\n",
        "print('Negative Predictive Value : ', TN/(TN+FN))\n",
        "print('False Discovery rate : ', FP/(TP+FP))\n",
        "print('Mean Absolute Error:', metrics.mean_absolute_error(ytest, XGB.predict(xtest)))\n",
        "\n",
        "skfold=StratifiedKFold(n_splits=10)\n",
        "scores=cross_val_score(XGB,x,y,cv=skfold)\n",
        "print(\"10 fold cross validation: \",scores)\n",
        "print(\"Mean of 10 fold cross validation : \",np.mean(scores))\n",
        "xgb=roc_auc_values(XGB)\n",
        "\n",
        "\n"
      ]
    },
    {
      "cell_type": "code",
      "execution_count": null,
      "metadata": {
        "colab": {
          "base_uri": "https://localhost:8080/"
        },
        "id": "IpAAwf_j6Ruq",
        "outputId": "8187630f-144b-40d2-acad-77a15dddf98f"
      },
      "outputs": [
        {
          "output_type": "stream",
          "name": "stdout",
          "text": [
            "Confusion matrix is :\n",
            "[[750  84]\n",
            " [ 27 806]]\n",
            "\n",
            "Classification Report : \n",
            "              precision    recall  f1-score   support\n",
            "\n",
            "           0       0.97      0.90      0.93       834\n",
            "           1       0.91      0.97      0.94       833\n",
            "\n",
            "    accuracy                           0.93      1667\n",
            "   macro avg       0.94      0.93      0.93      1667\n",
            "weighted avg       0.94      0.93      0.93      1667\n",
            "\n",
            "\n",
            "\n",
            "Testing accuracy :  0.9334133173365327\n",
            "Training accuracy: 100.0\n",
            "F1 Score : 0.9333380887996878\n",
            "Precision : 0.9354344713895275\n",
            "Recall : 0.933433805176747\n",
            "AUC = 0.975\n",
            "Sensitivity :  0.9652509652509652\n",
            "Specificity :  0.9056179775280899\n",
            "false positive rate :  0.09438202247191012\n",
            "false negative rate :  0.03474903474903475\n",
            "Negative Predictive Value :  0.9675870348139256\n",
            "False Discovery rate :  0.10071942446043165\n",
            "Mean Absolute Error: 0.0665866826634673\n",
            "10 fold cross validation:  [0.58752998 0.79616307 0.98319328 0.97238896 0.98079232 0.97839136\n",
            " 0.9759904  0.98319328 0.98679472 0.97118848]\n",
            "Mean of 10 fold cross validation :  0.9215625818672792\n"
          ]
        }
      ],
      "source": [
        "from sklearn.ensemble import  ExtraTreesClassifier\n",
        "ETC=ExtraTreesClassifier()\n",
        "ETC.fit(xtrain,ytrain)\n",
        "print('Confusion matrix is :')\n",
        "cm = confusion_matrix(ytest, ETC.predict(xtest))\n",
        "TP = cm[0][0]\n",
        "TN = cm[1][1]\n",
        "FP = cm[0][1]\n",
        "FN = cm[1][0]\n",
        "print(cm)\n",
        "print()\n",
        "classificationReport = classification_report(ytest, ETC.predict(xtest))\n",
        "print(\"Classification Report : \")\n",
        "print (classificationReport)\n",
        "print(\"\\n\")\n",
        "print('Testing accuracy : ',ETC.score(xtest,ytest))\n",
        "print(\"Training accuracy:\",ETC.score(xtrain,ytrain)*100)\n",
        "print(\"F1 Score :\",f1_score(ytest, ETC.predict(xtest),average='macro'))\n",
        "print(\"Precision :\", precision_score(ytest, ETC.predict(xtest),average='macro'))\n",
        "print(\"Recall :\", recall_score(ytest, ETC.predict(xtest),average='macro'))\n",
        "probs = ETC.predict_proba(xtest)\n",
        "probs = probs[:, 1]\n",
        "auc = roc_auc_score(ytest, probs)\n",
        "fpr, tpr, _ = roc_curve(ytest, probs)\n",
        "auc1=metrics.auc(fpr, tpr)\n",
        "print('AUC = %.3f' % (auc1))\n",
        "print('Sensitivity : ', TP/(TP+FN))\n",
        "print('Specificity : ', TN/(TN+FP))\n",
        "print('false positive rate : ', FP/(FP+TN))\n",
        "print('false negative rate : ', FN/(FN+TP))\n",
        "print('Negative Predictive Value : ', TN/(TN+FN))\n",
        "print('False Discovery rate : ', FP/(TP+FP))\n",
        "print('Mean Absolute Error:', metrics.mean_absolute_error(ytest, ETC.predict(xtest)))\n",
        "\n",
        "skfold=StratifiedKFold(n_splits=10)\n",
        "scores=cross_val_score(ETC,x,y,cv=skfold)\n",
        "print(\"10 fold cross validation: \",scores)\n",
        "print(\"Mean of 10 fold cross validation : \",np.mean(scores))\n",
        "etc=roc_auc_values(ETC)\n",
        "\n"
      ]
    },
    {
      "cell_type": "code",
      "source": [
        "from sklearn.metrics import confusion_matrix\n",
        "import pandas as pd\n",
        "import seaborn as sn\n",
        "import matplotlib.pyplot as plt\n",
        "%matplotlib inline\n",
        "import numpy as np\n",
        "data=[[748 , 86],\n",
        " [ 24, 809]]\n",
        "y_true = [\"Dead\",\"Alive\"]\n",
        "y_pred =  [\"Dead\",\"Alive\"]\n",
        "\n",
        "df_cm = pd.DataFrame(data, columns=np.unique(y_true), index = np.unique(y_true))\n",
        "df_cm.index.name = 'Actual'\n",
        "df_cm.columns.name = 'Predicted'\n",
        "plt.figure(figsize = (10,7))\n",
        "sn.set(font_scale=1.4)#for label size\n",
        "sn.heatmap(df_cm, annot=True,annot_kws={\"size\": 16}, fmt='g')# font size"
      ],
      "metadata": {
        "colab": {
          "base_uri": "https://localhost:8080/",
          "height": 477
        },
        "id": "c63z-cOgX1-V",
        "outputId": "95b66c4b-deb9-4807-8763-ac9e402f40e9"
      },
      "execution_count": null,
      "outputs": [
        {
          "output_type": "execute_result",
          "data": {
            "text/plain": [
              "<matplotlib.axes._subplots.AxesSubplot at 0x7f14d6eff2e0>"
            ]
          },
          "metadata": {},
          "execution_count": 37
        },
        {
          "output_type": "display_data",
          "data": {
            "text/plain": [
              "<Figure size 720x504 with 2 Axes>"
            ],
            "image/png": "[encoded data removed]"
          },
          "metadata": {
            "needs_background": "light"
          }
        }
      ]
    },
    {
      "cell_type": "code",
      "execution_count": null,
      "metadata": {
        "colab": {
          "base_uri": "https://localhost:8080/"
        },
        "id": "M_DKf1WG6Q0G",
        "outputId": "30d9e79c-5947-48a1-eda9-871979a5c6a7"
      },
      "outputs": [
        {
          "output_type": "stream",
          "name": "stdout",
          "text": [
            "Confusion matrix is :\n",
            "[[732 102]\n",
            " [ 23 810]]\n",
            "\n",
            "Classification Report : \n",
            "              precision    recall  f1-score   support\n",
            "\n",
            "           0       0.97      0.88      0.92       834\n",
            "           1       0.89      0.97      0.93       833\n",
            "\n",
            "    accuracy                           0.93      1667\n",
            "   macro avg       0.93      0.93      0.92      1667\n",
            "weighted avg       0.93      0.93      0.92      1667\n",
            "\n",
            "\n",
            "\n",
            "Testing accuracy :  0.9250149970005999\n",
            "Training accuracy: 93.2483120780195\n",
            "F1 Score : 0.9248504673065723\n",
            "Precision : 0.9288471592889509\n",
            "Recall : 0.9250433986544258\n",
            "AUC = 0.965\n",
            "Sensitivity :  0.9695364238410596\n",
            "Specificity :  0.8881578947368421\n",
            "false positive rate :  0.1118421052631579\n",
            "false negative rate :  0.030463576158940398\n",
            "Negative Predictive Value :  0.9723889555822329\n",
            "False Discovery rate :  0.1223021582733813\n",
            "Mean Absolute Error: 0.07498500299940011\n",
            "10 fold cross validation:  [0.55035971 0.77218225 0.98319328 0.9759904  0.96638655 0.98079232\n",
            " 0.96878752 0.98679472 0.97959184 0.96278511]\n",
            "Mean of 10 fold cross validation :  0.9126863695118335\n"
          ]
        }
      ],
      "source": [
        "from sklearn.ensemble import  GradientBoostingClassifier\n",
        "GBC= GradientBoostingClassifier()\n",
        "GBC.fit(xtrain,ytrain)\n",
        "print('Confusion matrix is :')\n",
        "cm = confusion_matrix(ytest, GBC.predict(xtest))\n",
        "TP = cm[0][0]\n",
        "TN = cm[1][1]\n",
        "FP = cm[0][1]\n",
        "FN = cm[1][0]\n",
        "print(cm)\n",
        "print()\n",
        "classificationReport = classification_report(ytest, GBC.predict(xtest))\n",
        "print(\"Classification Report : \")\n",
        "print (classificationReport)\n",
        "print(\"\\n\")\n",
        "print('Testing accuracy : ',GBC.score(xtest,ytest))\n",
        "print(\"Training accuracy:\",GBC.score(xtrain,ytrain)*100)\n",
        "print(\"F1 Score :\",f1_score(ytest, GBC.predict(xtest),average='macro'))\n",
        "print(\"Precision :\", precision_score(ytest, GBC.predict(xtest),average='macro'))\n",
        "print(\"Recall :\", recall_score(ytest, GBC.predict(xtest),average='macro'))\n",
        "probs = GBC.predict_proba(xtest)\n",
        "probs = probs[:, 1]\n",
        "auc = roc_auc_score(ytest, probs)\n",
        "fpr, tpr, _ = roc_curve(ytest, probs)\n",
        "auc1=metrics.auc(fpr, tpr)\n",
        "print('AUC = %.3f' % (auc1))\n",
        "print('Sensitivity : ', TP/(TP+FN))\n",
        "print('Specificity : ', TN/(TN+FP))\n",
        "print('false positive rate : ', FP/(FP+TN))\n",
        "print('false negative rate : ', FN/(FN+TP))\n",
        "print('Negative Predictive Value : ', TN/(TN+FN))\n",
        "print('False Discovery rate : ', FP/(TP+FP))\n",
        "print('Mean Absolute Error:', metrics.mean_absolute_error(ytest, GBC.predict(xtest)))\n",
        "\n",
        "skfold=StratifiedKFold(n_splits=10)\n",
        "scores=cross_val_score(GBC,x,y,cv=skfold)\n",
        "print(\"10 fold cross validation: \",scores)\n",
        "print(\"Mean of 10 fold cross validation : \",np.mean(scores))\n",
        "gbc=roc_auc_values(GBC)\n",
        "\n",
        "\n"
      ]
    },
    {
      "cell_type": "code",
      "execution_count": null,
      "metadata": {
        "id": "aKW8dElG6Qxa"
      },
      "outputs": [],
      "source": [
        "from sklearn.linear_model import SGDClassifier\n",
        "SGDC = SGDClassifier(loss='log')"
      ]
    },
    {
      "cell_type": "code",
      "execution_count": null,
      "metadata": {
        "colab": {
          "base_uri": "https://localhost:8080/"
        },
        "id": "m_IJust36Quu",
        "outputId": "15e3527f-b468-4ac5-da13-f9050b1fd516"
      },
      "outputs": [
        {
          "output_type": "stream",
          "name": "stdout",
          "text": [
            "Confusion matrix is :\n",
            "[[306 528]\n",
            " [141 692]]\n",
            "\n",
            "Classification Report : \n",
            "              precision    recall  f1-score   support\n",
            "\n",
            "           0       0.68      0.37      0.48       834\n",
            "           1       0.57      0.83      0.67       833\n",
            "\n",
            "    accuracy                           0.60      1667\n",
            "   macro avg       0.63      0.60      0.58      1667\n",
            "weighted avg       0.63      0.60      0.58      1667\n",
            "\n",
            "\n",
            "\n",
            "Testing accuracy :  0.5986802639472105\n",
            "Training accuracy: 60.55513878469617\n",
            "F1 Score : 0.5759435840165361\n",
            "Precision : 0.6258884365716801\n",
            "Recall : 0.5988193838686554\n",
            "AUC = 0.598\n",
            "Sensitivity :  0.6845637583892618\n",
            "Specificity :  0.5672131147540984\n",
            "false positive rate :  0.43278688524590164\n",
            "false negative rate :  0.31543624161073824\n",
            "Negative Predictive Value :  0.8307322929171669\n",
            "False Discovery rate :  0.6330935251798561\n",
            "Mean Absolute Error: 0.4013197360527894\n",
            "10 fold cross validation:  [0.63069544 0.65947242 0.74789916 0.72268908 0.71188475 0.68907563\n",
            " 0.60984394 0.6422569  0.68067227 0.72268908]\n",
            "Mean of 10 fold cross validation :  0.6817178670029163\n"
          ]
        }
      ],
      "source": [
        "SGDC.fit(xtrain,ytrain)\n",
        "print('Confusion matrix is :')\n",
        "cm = confusion_matrix(ytest, SGDC.predict(xtest))\n",
        "TP = cm[0][0]\n",
        "TN = cm[1][1]\n",
        "FP = cm[0][1]\n",
        "FN = cm[1][0]\n",
        "print(cm)\n",
        "print()\n",
        "classificationReport = classification_report(ytest, SGDC.predict(xtest))\n",
        "print(\"Classification Report : \")\n",
        "print (classificationReport)\n",
        "print(\"\\n\")\n",
        "print('Testing accuracy : ',SGDC.score(xtest,ytest))\n",
        "print(\"Training accuracy:\",SGDC.score(xtrain,ytrain)*100)\n",
        "print(\"F1 Score :\",f1_score(ytest, SGDC.predict(xtest),average='macro'))\n",
        "print(\"Precision :\", precision_score(ytest, SGDC.predict(xtest),average='macro'))\n",
        "print(\"Recall :\", recall_score(ytest, SGDC.predict(xtest),average='macro'))\n",
        "probs = SGDC.predict_proba(xtest)\n",
        "probs = probs[:, 1]\n",
        "auc = roc_auc_score(ytest, probs)\n",
        "fpr, tpr, _ = roc_curve(ytest, probs)\n",
        "auc1=metrics.auc(fpr, tpr)\n",
        "print('AUC = %.3f' % (auc1))\n",
        "print('Sensitivity : ', TP/(TP+FN))\n",
        "print('Specificity : ', TN/(TN+FP))\n",
        "print('false positive rate : ', FP/(FP+TN))\n",
        "print('false negative rate : ', FN/(FN+TP))\n",
        "print('Negative Predictive Value : ', TN/(TN+FN))\n",
        "print('False Discovery rate : ', FP/(TP+FP))\n",
        "print('Mean Absolute Error:', metrics.mean_absolute_error(ytest, SGDC.predict(xtest)))\n",
        "\n",
        "skfold=StratifiedKFold(n_splits=10)\n",
        "scores=cross_val_score(SGDC,x,y,cv=skfold)\n",
        "print(\"10 fold cross validation: \",scores)\n",
        "print(\"Mean of 10 fold cross validation : \",np.mean(scores))\n",
        "sgdc=roc_auc_values(SGDC)\n",
        "\n"
      ]
    },
    {
      "cell_type": "code",
      "execution_count": null,
      "metadata": {
        "colab": {
          "base_uri": "https://localhost:8080/"
        },
        "id": "K6F1QF5-6QpW",
        "outputId": "461ef772-bb75-4ac2-ace6-67dd162dbe60"
      },
      "outputs": [
        {
          "output_type": "stream",
          "name": "stdout",
          "text": [
            "Confusion matrix is :\n",
            "[[743  91]\n",
            " [ 34 799]]\n",
            "\n",
            "Classification Report : \n",
            "              precision    recall  f1-score   support\n",
            "\n",
            "           0       0.96      0.89      0.92       834\n",
            "           1       0.90      0.96      0.93       833\n",
            "\n",
            "    accuracy                           0.93      1667\n",
            "   macro avg       0.93      0.93      0.92      1667\n",
            "weighted avg       0.93      0.93      0.92      1667\n",
            "\n",
            "\n",
            "\n",
            "Testing accuracy :  0.9250149970005999\n",
            "Training accuracy: 96.23405851462866\n",
            "F1 Score : 0.9249302801798287\n",
            "Precision : 0.9269973826153601\n",
            "Recall : 0.9250354818186267\n",
            "AUC = 0.967\n",
            "Sensitivity :  0.9562419562419563\n",
            "Specificity :  0.8977528089887641\n",
            "false positive rate :  0.10224719101123596\n",
            "false negative rate :  0.043758043758043756\n",
            "Negative Predictive Value :  0.9591836734693877\n",
            "False Discovery rate :  0.1091127098321343\n",
            "Mean Absolute Error: 0.07498500299940011\n",
            "10 fold cross validation:  [0.53717026 0.76378897 0.98079232 0.97478992 0.98079232 0.98679472\n",
            " 0.97238896 0.98319328 0.98679472 0.969988  ]\n",
            "Mean of 10 fold cross validation :  0.9136493446299383\n"
          ]
        }
      ],
      "source": [
        "from lightgbm import LGBMClassifier\n",
        "LGBM=LGBMClassifier()\n",
        "LGBM.fit(xtrain,ytrain)\n",
        "print('Confusion matrix is :')\n",
        "cm = confusion_matrix(ytest, LGBM.predict(xtest))\n",
        "TP = cm[0][0]\n",
        "TN = cm[1][1]\n",
        "FP = cm[0][1]\n",
        "FN = cm[1][0]\n",
        "print(cm)\n",
        "print()\n",
        "classificationReport = classification_report(ytest, LGBM.predict(xtest))\n",
        "print(\"Classification Report : \")\n",
        "print (classificationReport)\n",
        "print(\"\\n\")\n",
        "print('Testing accuracy : ',LGBM.score(xtest,ytest))\n",
        "print(\"Training accuracy:\",LGBM.score(xtrain,ytrain)*100)\n",
        "print(\"F1 Score :\",f1_score(ytest, LGBM.predict(xtest),average='macro'))\n",
        "print(\"Precision :\", precision_score(ytest, LGBM.predict(xtest),average='macro'))\n",
        "print(\"Recall :\", recall_score(ytest, LGBM.predict(xtest),average='macro'))\n",
        "probs = LGBM.predict_proba(xtest)\n",
        "probs = probs[:, 1]\n",
        "auc = roc_auc_score(ytest, probs)\n",
        "fpr, tpr, _ = roc_curve(ytest, probs)\n",
        "auc1=metrics.auc(fpr, tpr)\n",
        "print('AUC = %.3f' % (auc1))\n",
        "print('Sensitivity : ', TP/(TP+FN))\n",
        "print('Specificity : ', TN/(TN+FP))\n",
        "print('false positive rate : ', FP/(FP+TN))\n",
        "print('false negative rate : ', FN/(FN+TP))\n",
        "print('Negative Predictive Value : ', TN/(TN+FN))\n",
        "print('False Discovery rate : ', FP/(TP+FP))\n",
        "print('Mean Absolute Error:', metrics.mean_absolute_error(ytest, LGBM.predict(xtest)))\n",
        "\n",
        "skfold=StratifiedKFold(n_splits=10)\n",
        "scores=cross_val_score(LGBM,x,y,cv=skfold)\n",
        "print(\"10 fold cross validation: \",scores)\n",
        "print(\"Mean of 10 fold cross validation : \",np.mean(scores))\n",
        "lgbm=roc_auc_values(LGBM)\n",
        "\n"
      ]
    },
    {
      "cell_type": "code",
      "source": [
        "from sklearn.metrics import confusion_matrix\n",
        "import pandas as pd\n",
        "import seaborn as sn\n",
        "import matplotlib.pyplot as plt\n",
        "%matplotlib inline\n",
        "import numpy as np\n",
        "\n",
        "data=[[743  ,91],\n",
        " [ 29, 804]]\n",
        "\n",
        "y_true = [\"Dead\",\"Alive\"]\n",
        "y_pred =  [\"Dead\",\"Alive\"]\n",
        "\n",
        "df_cm = pd.DataFrame(data, columns=np.unique(y_true), index = np.unique(y_true))\n",
        "df_cm.index.name = 'Actual'\n",
        "df_cm.columns.name = 'Predicted'\n",
        "plt.figure(figsize = (10,7))\n",
        "sn.set(font_scale=1.4)#for label size\n",
        "sn.heatmap(df_cm, annot=True,annot_kws={\"size\": 16}, fmt='g')# font size"
      ],
      "metadata": {
        "colab": {
          "base_uri": "https://localhost:8080/",
          "height": 479
        },
        "id": "LJFyo6atX_ph",
        "outputId": "b5bc5f1d-b76d-48b8-b29b-5e3bb8767c06"
      },
      "execution_count": null,
      "outputs": [
        {
          "output_type": "execute_result",
          "data": {
            "text/plain": [
              "<matplotlib.axes._subplots.AxesSubplot at 0x7f14cdc457c0>"
            ]
          },
          "metadata": {},
          "execution_count": 43
        },
        {
          "output_type": "display_data",
          "data": {
            "text/plain": [
              "<Figure size 720x504 with 2 Axes>"
            ],
            "image/png": "[encoded data removed]"
          },
          "metadata": {
            "needs_background": "light"
          }
        }
      ]
    },
    {
      "cell_type": "code",
      "execution_count": null,
      "metadata": {
        "colab": {
          "base_uri": "https://localhost:8080/"
        },
        "id": "233znEQT6QmO",
        "outputId": "abd59ed5-c60a-4ad2-c57f-536afeb2c860"
      },
      "outputs": [
        {
          "output_type": "stream",
          "name": "stdout",
          "text": [
            "Confusion matrix is :\n",
            "[[742  92]\n",
            " [238 595]]\n",
            "\n",
            "Classification Report : \n",
            "              precision    recall  f1-score   support\n",
            "\n",
            "           0       0.76      0.89      0.82       834\n",
            "           1       0.87      0.71      0.78       833\n",
            "\n",
            "    accuracy                           0.80      1667\n",
            "   macro avg       0.81      0.80      0.80      1667\n",
            "weighted avg       0.81      0.80      0.80      1667\n",
            "\n",
            "\n",
            "\n",
            "Testing accuracy :  0.8020395920815837\n",
            "Training accuracy: 87.26181545386346\n",
            "F1 Score : 0.8004881622468519\n",
            "Precision : 0.8116136410896235\n",
            "Recall : 0.8019869818430969\n",
            "AUC = 0.885\n",
            "Sensitivity :  0.7571428571428571\n",
            "Specificity :  0.86608442503639\n",
            "false positive rate :  0.1339155749636099\n",
            "false negative rate :  0.24285714285714285\n",
            "Negative Predictive Value :  0.7142857142857143\n",
            "False Discovery rate :  0.11031175059952038\n",
            "Mean Absolute Error: 0.19796040791841632\n",
            "10 fold cross validation:  [0.7529976  0.78177458 0.83073229 0.79711885 0.80912365 0.82593037\n",
            " 0.80912365 0.81752701 0.81152461 0.81632653]\n",
            "Mean of 10 fold cross validation :  0.8052179145039311\n"
          ]
        }
      ],
      "source": [
        "from sklearn.neighbors import KNeighborsClassifier\n",
        "KNNC=KNeighborsClassifier()\n",
        "KNNC.fit(xtrain,ytrain)\n",
        "print('Confusion matrix is :')\n",
        "cm = confusion_matrix(ytest, KNNC.predict(xtest))\n",
        "TP = cm[0][0]\n",
        "TN = cm[1][1]\n",
        "FP = cm[0][1]\n",
        "FN = cm[1][0]\n",
        "print(cm)\n",
        "print()\n",
        "classificationReport = classification_report(ytest, KNNC.predict(xtest))\n",
        "print(\"Classification Report : \")\n",
        "print (classificationReport)\n",
        "print(\"\\n\")\n",
        "print('Testing accuracy : ',KNNC.score(xtest,ytest))\n",
        "print(\"Training accuracy:\",KNNC.score(xtrain,ytrain)*100)\n",
        "print(\"F1 Score :\",f1_score(ytest, KNNC.predict(xtest),average='macro'))\n",
        "print(\"Precision :\", precision_score(ytest, KNNC.predict(xtest),average='macro'))\n",
        "print(\"Recall :\", recall_score(ytest, KNNC.predict(xtest),average='macro'))\n",
        "probs = KNNC.predict_proba(xtest)\n",
        "probs = probs[:, 1]\n",
        "auc = roc_auc_score(ytest, probs)\n",
        "fpr, tpr, _ = roc_curve(ytest, probs)\n",
        "auc1=metrics.auc(fpr, tpr)\n",
        "print('AUC = %.3f' % (auc1))\n",
        "print('Sensitivity : ', TP/(TP+FN))\n",
        "print('Specificity : ', TN/(TN+FP))\n",
        "print('false positive rate : ', FP/(FP+TN))\n",
        "print('false negative rate : ', FN/(FN+TP))\n",
        "print('Negative Predictive Value : ', TN/(TN+FN))\n",
        "print('False Discovery rate : ', FP/(TP+FP))\n",
        "print('Mean Absolute Error:', metrics.mean_absolute_error(ytest, KNNC.predict(xtest)))\n",
        "\n",
        "skfold=StratifiedKFold(n_splits=10)\n",
        "scores=cross_val_score(KNNC,x,y,cv=skfold)\n",
        "print(\"10 fold cross validation: \",scores)\n",
        "print(\"Mean of 10 fold cross validation : \",np.mean(scores))\n",
        "knnc=roc_auc_values(KNNC)\n",
        "\n",
        "\n"
      ]
    },
    {
      "cell_type": "code",
      "execution_count": null,
      "metadata": {
        "colab": {
          "base_uri": "https://localhost:8080/"
        },
        "id": "7P3Xqdb_6QjY",
        "outputId": "85c43213-de92-43f4-f1d8-2aad018b8d9e"
      },
      "outputs": [
        {
          "output_type": "stream",
          "name": "stdout",
          "text": [
            "Confusion matrix is :\n",
            "[[781  53]\n",
            " [366 467]]\n",
            "\n",
            "Classification Report : \n",
            "              precision    recall  f1-score   support\n",
            "\n",
            "           0       0.68      0.94      0.79       834\n",
            "           1       0.90      0.56      0.69       833\n",
            "\n",
            "    accuracy                           0.75      1667\n",
            "   macro avg       0.79      0.75      0.74      1667\n",
            "weighted avg       0.79      0.75      0.74      1667\n",
            "\n",
            "\n",
            "\n",
            "Testing accuracy :  0.7486502699460108\n",
            "Training accuracy: 73.503375843961\n",
            "F1 Score : 0.7394042367756062\n",
            "Precision : 0.7894918181208503\n",
            "Recall : 0.7485375445142086\n",
            "AUC = 0.904\n",
            "Sensitivity :  0.6809067131647777\n",
            "Specificity :  0.8980769230769231\n",
            "false positive rate :  0.10192307692307692\n",
            "false negative rate :  0.3190932868352223\n",
            "Negative Predictive Value :  0.56062424969988\n",
            "False Discovery rate :  0.06354916067146282\n",
            "Mean Absolute Error: 0.2513497300539892\n",
            "10 fold cross validation:  [0.49160671 0.70023981 0.76470588 0.74789916 0.77070828 0.74669868\n",
            " 0.7334934  0.70348139 0.75030012 0.7214886 ]\n",
            "Mean of 10 fold cross validation :  0.7130622032985856\n"
          ]
        }
      ],
      "source": [
        "\n",
        "from sklearn.naive_bayes import GaussianNB\n",
        "GNB = GaussianNB()\n",
        "GNB.fit(xtrain,ytrain)\n",
        "print('Confusion matrix is :')\n",
        "cm = confusion_matrix(ytest, GNB.predict(xtest))\n",
        "TP = cm[0][0]\n",
        "TN = cm[1][1]\n",
        "FP = cm[0][1]\n",
        "FN = cm[1][0]\n",
        "print(cm)\n",
        "print()\n",
        "classificationReport = classification_report(ytest, GNB.predict(xtest))\n",
        "print(\"Classification Report : \")\n",
        "print (classificationReport)\n",
        "print(\"\\n\")\n",
        "print('Testing accuracy : ',GNB.score(xtest,ytest))\n",
        "print(\"Training accuracy:\",GNB.score(xtrain,ytrain)*100)\n",
        "print(\"F1 Score :\",f1_score(ytest, GNB.predict(xtest),average='macro'))\n",
        "print(\"Precision :\", precision_score(ytest, GNB.predict(xtest),average='macro'))\n",
        "print(\"Recall :\", recall_score(ytest, GNB.predict(xtest),average='macro'))\n",
        "probs = GNB.predict_proba(xtest)\n",
        "probs = probs[:, 1]\n",
        "auc = roc_auc_score(ytest, probs)\n",
        "fpr, tpr, _ = roc_curve(ytest, probs)\n",
        "auc1=metrics.auc(fpr, tpr)\n",
        "print('AUC = %.3f' % (auc1))\n",
        "print('Sensitivity : ', TP/(TP+FN))\n",
        "print('Specificity : ', TN/(TN+FP))\n",
        "print('false positive rate : ', FP/(FP+TN))\n",
        "print('false negative rate : ', FN/(FN+TP))\n",
        "print('Negative Predictive Value : ', TN/(TN+FN))\n",
        "print('False Discovery rate : ', FP/(TP+FP))\n",
        "print('Mean Absolute Error:', metrics.mean_absolute_error(ytest, GNB.predict(xtest)))\n",
        "\n",
        "skfold=StratifiedKFold(n_splits=10)\n",
        "scores=cross_val_score(GNB,x,y,cv=skfold)\n",
        "print(\"10 fold cross validation: \",scores)\n",
        "print(\"Mean of 10 fold cross validation : \",np.mean(scores))\n",
        "gnb=roc_auc_values(GNB)\n",
        "\n"
      ]
    },
    {
      "cell_type": "code",
      "execution_count": null,
      "metadata": {
        "colab": {
          "base_uri": "https://localhost:8080/",
          "height": 478
        },
        "id": "0khf7F9BjAtj",
        "outputId": "8fa1cbd1-ad3a-4558-d127-f7d177a61b90"
      },
      "outputs": [
        {
          "output_type": "display_data",
          "data": {
            "text/plain": [
              "<Figure size 720x504 with 1 Axes>"
            ],
            "image/png": "[encoded data removed]"
          },
          "metadata": {}
        }
      ],
      "source": [
        "\n",
        "plt.figure(figsize=(10,7))\n",
        "plt.plot(gbc['fpr'], gbc['tpr'],   label='GBC (AUC = %0.3f)' % gbc['auc'])\n",
        "\n",
        "plt.plot(lgbm['fpr'], lgbm['tpr'],  label='LGBM (AUC = %0.3f)' % lgbm['auc'])\n",
        "plt.plot(rf['fpr'], rf['tpr'], label='Random Forest (AUC = %0.3f)' % rf['auc'])\n",
        "plt.plot(etc['fpr'], etc['tpr'], label='Extra Tree (AUC = %0.3f)' % etc['auc'])\n",
        "\n",
        "plt.plot(xgb['fpr'], xgb['tpr'], label='XG Boost (AUC = %0.3f)' % xgb['auc'])\n",
        "\n",
        "# Title\n",
        "plt.title('ROC Curve')\n",
        "# Axis labels\n",
        "plt.xlabel('False Positive Rate')\n",
        "plt.ylabel('True Positive Rate')\n",
        "# Show legend\n",
        "plt.legend() #\n",
        "# Show plot\n",
        "plt.grid(False)\n",
        "plt.show()"
      ]
    },
    {
      "cell_type": "code",
      "source": [],
      "metadata": {
        "id": "AG5zJYsinJme"
      },
      "execution_count": null,
      "outputs": []
    },
    {
      "cell_type": "code",
      "source": [],
      "metadata": {
        "id": "o8o6mOJ7nJz2"
      },
      "execution_count": null,
      "outputs": []
    },
    {
      "cell_type": "code",
      "source": [],
      "metadata": {
        "id": "RQmCC2yrnJ8H"
      },
      "execution_count": null,
      "outputs": []
    },
    {
      "cell_type": "code",
      "source": [],
      "metadata": {
        "id": "pK-odRc_nJ_6"
      },
      "execution_count": null,
      "outputs": []
    }
  ],
  "metadata": {
    "colab": {
      "provenance": [],
      "collapsed_sections": [
        "3Fs_BTXcDoTT"
      ],
      "include_colab_link": true
    },
    "kernelspec": {
      "display_name": "Python 3",
      "name": "python3"
    },
    "language_info": {
      "name": "python"
    }
  },
  "nbformat": 4,
  "nbformat_minor": 0
}
